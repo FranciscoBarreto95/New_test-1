{
 "cells": [
  {
   "cell_type": "markdown",
   "id": "fd59f91d",
   "metadata": {},
   "source": [
    "The following list contains temperatures from Ironhack office during the summer. If the temperatures are above 25 at any point we should install a better AC in the room."
   ]
  },
  {
   "cell_type": "code",
   "execution_count": 1,
   "id": "fa49f941",
   "metadata": {},
   "outputs": [],
   "source": [
    "temp_hourly = [16, 18, 20, 21, 21, 22, 24, 26, 28, 30, 31, 32]"
   ]
  },
  {
   "cell_type": "code",
   "execution_count": null,
   "id": "47b799c0",
   "metadata": {},
   "outputs": [],
   "source": []
  },
  {
   "cell_type": "code",
   "execution_count": null,
   "id": "1abdf072",
   "metadata": {},
   "outputs": [],
   "source": []
  }
 ],
 "metadata": {
  "kernelspec": {
   "display_name": "Python 3",
   "language": "python",
   "name": "python3"
  },
  "language_info": {
   "codemirror_mode": {
    "name": "ipython",
    "version": 3
   },
   "file_extension": ".py",
   "mimetype": "text/x-python",
   "name": "python",
   "nbconvert_exporter": "python",
   "pygments_lexer": "ipython3",
   "version": "3.9.0"
  }
 },
 "nbformat": 4,
 "nbformat_minor": 5
}
